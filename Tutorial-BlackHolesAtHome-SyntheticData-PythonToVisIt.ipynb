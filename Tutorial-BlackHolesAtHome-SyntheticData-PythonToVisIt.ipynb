{
 "cells": [
  {
   "cell_type": "markdown",
   "id": "34b6758d",
   "metadata": {},
   "source": [
    "# Black Holes at Home Tutorial: Using Python in VisIt\n",
    "\n",
    "## Author: Tyndale Stutzman\n",
    "\n",
    "## This tutorial demonstrates how to plot Synthetic Data in Visit via Python\n",
    "\n",
    "## Introduction: \n",
    "\n",
    "Some quick information on how python is used in conjunction with visit... little confusing \n"
   ]
  },
  {
   "cell_type": "markdown",
   "id": "2ff69705",
   "metadata": {},
   "source": [
    "<a id='toc'></a>\n",
    "# Table of Contents:\n",
    "$$\\label{toc}$$\n",
    "<!--these buttons aren't functioning properly so maybe figure that out-->\n",
    "1. [Step 1](#installing_visit): Installing VisIt\n",
    "1. [Step 2](#installing_modules): Installing necessary python Modules\n",
    "1. [Step 3](#generation): Generate synthetic data\n",
    "1. [Step 4](#run): Python to VisIt\n",
    "1. [Step 5](#tune): Fine Tuning Visit\n",
    "1. [Step 6](#conclusion): Conclusion"
   ]
  },
  {
   "cell_type": "markdown",
   "id": "3bba3886",
   "metadata": {},
   "source": [
    "# Step 1: Installing VisIt \\[Back to [top](#toc)\\]\n",
    "$$\\label{installing_visit}$$\n",
    "<a id='installing_visit'></a>\n",
    "\n",
    "<!--Add some fancy buttons etc. to skip to the apropriate section by OS respectively-->\n",
    "This tutorial covers prebuilt installation. Compiling from the source will be implemented in the future.  \n",
    "\n",
    "1. [GNU/OSX](#gnu_osx): <!--comments/suggestions re this OS-->\n",
    "1. [Windows](#windows): <!--comments/suggestions re this OS-->"
   ]
  },
  {
   "cell_type": "markdown",
   "id": "f5a3873d",
   "metadata": {},
   "source": [
    "# Step 2: Installing necessary Python modules \\[Back to [top](#toc)\\]\n",
    "$$\\label{installing_modules}$$\n",
    "<a id='installing_modules'></a>\n",
    "\n",
    "<!--Add some fancy buttons etc. to skip to the apropriate section by OS respectively-->\n",
    "Instructions are provided for your given operating system below. \n",
    "\n",
    "1. [GNU/OSX](#gnu_osx): <!--comments/suggestions re this OS-->\n",
    "1. [Windows](#windows): <!--comments/suggestions re this OS-->"
   ]
  },
  {
   "cell_type": "markdown",
   "id": "7864e4b3",
   "metadata": {},
   "source": [
    "### GNU/OSX \\[Back to [top](#installing_modules)\\] <!--maybe this is totally unecessary...?-->"
   ]
  },
  {
   "cell_type": "code",
   "execution_count": null,
   "id": "0773cad0",
   "metadata": {},
   "outputs": [],
   "source": [
    "pip3 install scipy matplotlib math numpy visit"
   ]
  },
  {
   "cell_type": "markdown",
   "id": "65453cc4",
   "metadata": {},
   "source": [
    "### Windows \\[Back to [top](#installing_modules)\\] <!--assuming pip3 install works on windows too, this entire cell can be deleted-->"
   ]
  },
  {
   "cell_type": "markdown",
   "id": "0861213b",
   "metadata": {},
   "source": [
    "# Step 3: Generate synthetic data \\[Back to [top](#toc)\\]\n",
    "$$\\label{generation}$$\n",
    "<a id='generation'></a>\n",
    "\n",
    "Here we will use the script from the previous notebook to generate synthetic data in the current directory"
   ]
  },
  {
   "cell_type": "code",
   "execution_count": null,
   "id": "2fc93c7e",
   "metadata": {},
   "outputs": [],
   "source": [
    "from scipy import special\n",
    "import matplotlib as plt\n",
    "from math import pi,cos,sin\n",
    "\n",
    "#error function\n",
    "def ERF(x,x0,w):\n",
    "    return 0.5 * (special.erf(((x)-(x0))/(w)) + 1.0)\n",
    "\n",
    "destination_directory = r\"./\"\n",
    "t_final = 2000\n",
    "num_data_pts = 1000\n",
    "deltat = (t_final)/num_data_pts\n",
    "BH1radius = 0.25\n",
    "BH2radius = 0.25\n",
    "orbital_period = 225\n",
    "omega = 2*pi/orbital_period\n",
    "\n",
    "#Replace 'synthetic_data.txt' here  \n",
    "with open(destination_directory + \"synthetic_data_BH1Only.csv\", \"w\") as file:\n",
    "    file.write(\"time BH1x BH1y BH1z \\n\") #add headers if BH2 is included in the file\n",
    "    for i in range(num_data_pts):\n",
    "        time = deltat * i \n",
    "        orbital_separation = ERF(time, 1000, -500) \n",
    "        #BH1 coords\n",
    "        BH1x = 0.5 * orbital_separation * cos(omega * time)\n",
    "        BH1y = 0.5 * orbital_separation * sin(omega * time)\n",
    "        BH1z = 0\n",
    "        #BH2 coords\n",
    "        BH2x = -0.5 * orbital_separation * cos(omega * time)\n",
    "        BH2y = -0.5 * orbital_separation * sin(omega * time)\n",
    "        BH2z = 0\n",
    "        \n",
    "        #typecast \n",
    "        outstr = str(time) + \",\" + str(BH1x) + \",\" + str(BH1y) + \"\\n\" #+ str(BH2x) + \" \" + str(BH2y) + \"\\n\"\n",
    "        file.write(outstr)"
   ]
  },
  {
   "cell_type": "markdown",
   "id": "a752085d",
   "metadata": {},
   "source": [
    "# Step 4: Python to Visit \\[Back to [top](#toc)\\]\n",
    "$$\\label{run}$$\n",
    "<a id='run'></a>\n",
    "\n",
    "With the synthetic data in the current directory, we can use python to create a sphere with coordinates defined by the data in the CSV file"
   ]
  },
  {
   "cell_type": "code",
   "execution_count": null,
   "id": "22ae45a3",
   "metadata": {},
   "outputs": [],
   "source": [
    "import sys\n",
    "sys.path.append(\"yourpath\") # this is only necessary if the module fails to be accessed properly\n",
    "import visit\n",
    "import csv\n",
    "\n",
    "def create_sphere(x, y, z, radius):\n",
    "    \"\"\"Create a sphere with center at (x, y, z) and given radius\"\"\"\n",
    "    return x**2 + y**2 + z**2 - radius**2\n",
    "\n",
    "def plot_sphere(x, y, z, radius):\n",
    "    \"\"\"Plot a sphere in VisIt using the CreateSphere method\"\"\"\n",
    "    visit.OpenDatabase(\"sphere.silo\")\n",
    "    visit.DefineScalarExpression(\"sphere\", create_sphere(x, y, z, radius))\n",
    "    visit.AddPlot(\"Pseudocolor\", \"sphere\")\n",
    "    visit.DrawPlots()\n",
    "\n",
    "# create x, y, z\n",
    "filename = \"synthetic_data_BH1xyOnly_Commas.csv\"\n",
    "\n",
    "with open(filename, 'r') as file:\n",
    "    reader = csv.reader(file)\n",
    "    header = next(reader)  # skip the header row\n",
    "    column1, column2, column3 = [], [], []\n",
    "    for row in reader:\n",
    "        t = float(row[0])\n",
    "        x = float(row[1])\n",
    "        y = float(row[2])\n",
    "''' \n",
    "or use this? \n",
    "data = np.genfromtxt('synthetic_data.txt', dtype=float, delimiter=' ', skip_header=1)\n",
    "BHx1=data[:,1]\n",
    "BHy1=data[:,2]\n",
    "BHx2=data[:,3]\n",
    "BHy2=data[:,4]\n",
    "'''\n",
    "\n",
    "z = 0\n",
    "# plot\n",
    "plot_sphere(x, y, z, 1)"
   ]
  }
 ],
 "metadata": {
  "kernelspec": {
   "display_name": "Python 3 (ipykernel)",
   "language": "python",
   "name": "python3"
  },
  "language_info": {
   "codemirror_mode": {
    "name": "ipython",
    "version": 3
   },
   "file_extension": ".py",
   "mimetype": "text/x-python",
   "name": "python",
   "nbconvert_exporter": "python",
   "pygments_lexer": "ipython3",
   "version": "3.9.13"
  }
 },
 "nbformat": 4,
 "nbformat_minor": 5
}
